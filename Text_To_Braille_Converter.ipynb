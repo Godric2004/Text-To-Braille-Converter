{
  "nbformat": 4,
  "nbformat_minor": 0,
  "metadata": {
    "colab": {
      "provenance": []
    },
    "kernelspec": {
      "name": "python3",
      "display_name": "Python 3"
    },
    "language_info": {
      "name": "python"
    }
  },
  "cells": [
    {
      "cell_type": "code",
      "source": [
        "!pip install symspellpy importlib_resources\n",
        "\n",
        "import numpy as np\n",
        "import sys\n",
        "from tensorflow.keras.preprocessing.sequence import pad_sequences\n",
        "from tensorflow.keras.models import Model\n",
        "from tensorflow.keras.layers import Input, LSTM, Dense, Embedding\n",
        "from tensorflow.keras.preprocessing.text import Tokenizer\n",
        "import symspellpy\n",
        "from symspellpy import SymSpell\n",
        "import importlib_resources as pkg_resources"
      ],
      "metadata": {
        "colab": {
          "base_uri": "https://localhost:8080/"
        },
        "id": "nNxNNRzS4jjk",
        "outputId": "8dead457-8cee-445f-d510-a04194af61f6"
      },
      "execution_count": 8,
      "outputs": [
        {
          "output_type": "stream",
          "name": "stdout",
          "text": [
            "Requirement already satisfied: symspellpy in /usr/local/lib/python3.11/dist-packages (6.9.0)\n",
            "Requirement already satisfied: importlib_resources in /usr/local/lib/python3.11/dist-packages (6.5.2)\n",
            "Requirement already satisfied: editdistpy>=0.1.3 in /usr/local/lib/python3.11/dist-packages (from symspellpy) (0.1.5)\n"
          ]
        }
      ]
    },
    {
      "cell_type": "markdown",
      "source": [
        "Braille-Text Mappings (Unicode Braille characters)"
      ],
      "metadata": {
        "id": "axgAYHF04oox"
      }
    },
    {
      "cell_type": "code",
      "source": [
        "braille_to_text = {\n",
        "    '⠁': 'a', '⠃': 'b', '⠉': 'c', '⠙': 'd', '⠑': 'e',\n",
        "    '⠋': 'f', '⠛': 'g', '⠓': 'h', '⠊': 'i', '⠚': 'j',\n",
        "    '⠅': 'k', '⠇': 'l', '⠍': 'm', '⠝': 'n', '⠕': 'o',\n",
        "    '⠏': 'p', '⠟': 'q', '⠗': 'r', '⠎': 's', '⠞': 't',\n",
        "    '⠥': 'u', '⠧': 'v', '⠺': 'w', '⠭': 'x', '⠽': 'y',\n",
        "    '⠵': 'z', ' ': ' ', '⠀': ' '  # Adding Braille space\n",
        "}\n",
        "\n",
        "text_to_braille = {v: k for k, v in braille_to_text.items()}"
      ],
      "metadata": {
        "id": "qdu4SbYJ4r3s"
      },
      "execution_count": 9,
      "outputs": []
    },
    {
      "cell_type": "markdown",
      "source": [
        "Initialize SymSpell for spell correction"
      ],
      "metadata": {
        "id": "myPlXMj34uwC"
      }
    },
    {
      "cell_type": "code",
      "source": [
        "sym_spell = SymSpell(max_dictionary_edit_distance=2, prefix_length=7)"
      ],
      "metadata": {
        "id": "uemMsMgr4xAi"
      },
      "execution_count": 10,
      "outputs": []
    },
    {
      "cell_type": "markdown",
      "source": [
        "Loading the dictionary from the correct path\n"
      ],
      "metadata": {
        "id": "0UpReC4l4zWA"
      }
    },
    {
      "cell_type": "code",
      "source": [
        "try:\n",
        "    dictionary_path = pkg_resources.files(\"symspellpy\").joinpath(\"frequency_dictionary_en_82_765.txt\")\n",
        "    sym_spell.load_dictionary(str(dictionary_path), term_index=0, count_index=1)\n",
        "except Exception as e:\n",
        "    print(f\"Error loading dictionary: {e}\")"
      ],
      "metadata": {
        "id": "gE2pr5xZ44Ja"
      },
      "execution_count": 15,
      "outputs": []
    },
    {
      "cell_type": "markdown",
      "source": [
        "Auto-Correction using SymSpell"
      ],
      "metadata": {
        "id": "vw5aJed_48dN"
      }
    },
    {
      "cell_type": "code",
      "source": [
        "def auto_correct(text):\n",
        "    if text:  # Check if text is not empty\n",
        "        suggestions = sym_spell.lookup(text, symspellpy.Verbosity.CLOSEST, max_edit_distance=2)\n",
        "        return suggestions[0].term if suggestions else text\n",
        "    return text  # Return the original text if empty"
      ],
      "metadata": {
        "id": "zvIWREcf49wL"
      },
      "execution_count": 16,
      "outputs": []
    },
    {
      "cell_type": "markdown",
      "source": [
        "Conversion Functions"
      ],
      "metadata": {
        "id": "rjLfc6lU5Au3"
      }
    },
    {
      "cell_type": "code",
      "source": [
        "def braille_to_text_conversion(braille_str):\n",
        "    text = ''.join([braille_to_text.get(c, '?') for c in braille_str])\n",
        "    return auto_correct(text)  # Apply AI-based auto-correction\n",
        "\n",
        "def text_to_braille_conversion(text_str):\n",
        "    return ''.join([text_to_braille.get(c.lower(), '?') for c in text_str])"
      ],
      "metadata": {
        "id": "ydmMoFw35EO1"
      },
      "execution_count": 17,
      "outputs": []
    },
    {
      "cell_type": "markdown",
      "source": [
        "CLI for Braille Converter"
      ],
      "metadata": {
        "id": "cQTazC3l5F_X"
      }
    },
    {
      "cell_type": "code",
      "source": [
        "def cli_converter():\n",
        "    print(\"\\nBraille Converter CLI\")\n",
        "    print(\"=====================\")\n",
        "    while True:\n",
        "        mode = input(\"Choose mode (1: Text to Braille, 2: Braille to Text, 0: Exit): \")\n",
        "        if mode == \"0\":\n",
        "            print(\"Exiting Braille Converter.\")\n",
        "            break\n",
        "        text = input(\"Enter text or Braille: \")\n",
        "        if mode == \"1\":\n",
        "            print(\"Converted to Braille:\", text_to_braille_conversion(text))\n",
        "        elif mode == \"2\":\n",
        "            print(\"Converted to Text:\", braille_to_text_conversion(text))\n",
        "        else:\n",
        "            print(\"Invalid option! Please choose again.\")\n"
      ],
      "metadata": {
        "id": "o6jk9e8P5HfA"
      },
      "execution_count": 18,
      "outputs": []
    },
    {
      "cell_type": "markdown",
      "source": [
        "Run CLI Mode"
      ],
      "metadata": {
        "id": "HzcGL3AX5JT_"
      }
    },
    {
      "cell_type": "code",
      "source": [
        "if __name__ == \"__main__\":\n",
        "    cli_converter()"
      ],
      "metadata": {
        "colab": {
          "base_uri": "https://localhost:8080/"
        },
        "id": "Gx1glYE05Kmu",
        "outputId": "56dd8b57-8e57-4744-86ef-16fda04b6e55"
      },
      "execution_count": 19,
      "outputs": [
        {
          "output_type": "stream",
          "name": "stdout",
          "text": [
            "\n",
            "Braille Converter CLI\n",
            "=====================\n",
            "Choose mode (1: Text to Braille, 2: Braille to Text, 0: Exit): 1\n",
            "Enter text or Braille: harshit\n",
            "Converted to Braille: ⠓⠁⠗⠎⠓⠊⠞\n",
            "Choose mode (1: Text to Braille, 2: Braille to Text, 0: Exit): 2\n",
            "Enter text or Braille: my \"n is h>%it\n",
            "Converted to Text: ?? ?? ?? ?????\n",
            "Choose mode (1: Text to Braille, 2: Braille to Text, 0: Exit): 2\n",
            "Enter text or Braille: 0\n",
            "Converted to Text: a\n",
            "Choose mode (1: Text to Braille, 2: Braille to Text, 0: Exit): 0\n",
            "Exiting Braille Converter.\n"
          ]
        }
      ]
    }
  ]
}